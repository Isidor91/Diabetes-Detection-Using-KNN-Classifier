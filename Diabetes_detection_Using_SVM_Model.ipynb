{
  "nbformat": 4,
  "nbformat_minor": 0,
  "metadata": {
    "colab": {
      "provenance": [],
      "authorship_tag": "ABX9TyMg58xCg/mizA6LBHGJ8e+J"
    },
    "kernelspec": {
      "name": "python3",
      "display_name": "Python 3"
    },
    "language_info": {
      "name": "python"
    }
  },
  "cells": [
    {
      "cell_type": "code",
      "execution_count": 2,
      "metadata": {
        "colab": {
          "base_uri": "https://localhost:8080/"
        },
        "id": "uXEDyFJ9TSUN",
        "outputId": "43f24e7e-abbd-4d2f-9406-7d25a8e0621b"
      },
      "outputs": [
        {
          "output_type": "stream",
          "name": "stdout",
          "text": [
            "Accuracy: 0.9102564102564102\n",
            "Classification Report:\n",
            "               precision    recall  f1-score   support\n",
            "\n",
            "           0       0.80      0.75      0.77        16\n",
            "           1       0.94      0.95      0.94        62\n",
            "\n",
            "    accuracy                           0.91        78\n",
            "   macro avg       0.87      0.85      0.86        78\n",
            "weighted avg       0.91      0.91      0.91        78\n",
            "\n"
          ]
        }
      ],
      "source": [
        "# Import necessary libraries\n",
        "import pandas as pd\n",
        "from sklearn.model_selection import train_test_split\n",
        "from sklearn.svm import SVC\n",
        "from sklearn.metrics import accuracy_score, classification_report\n",
        "from sklearn.preprocessing import LabelEncoder\n",
        "\n",
        "# Load the diabetes dataset\n",
        "diabetes_data = pd.read_csv('diabetes.csv')\n",
        "\n",
        "# Identify columns with non-numerical data\n",
        "categorical_cols = diabetes_data.select_dtypes(include=['object']).columns\n",
        "\n",
        "# Apply label encoding to convert categorical features to numerical\n",
        "label_encoder = LabelEncoder()\n",
        "for col in categorical_cols:\n",
        "    diabetes_data[col] = label_encoder.fit_transform(diabetes_data[col])\n",
        "\n",
        "# Separate features and target variable\n",
        "X = diabetes_data.drop('Diabetes', axis=1)\n",
        "y = diabetes_data['Diabetes']\n",
        "\n",
        "# Split the data into training and testing sets\n",
        "X_train, X_test, y_train, y_test = train_test_split(X, y, test_size=0.2, random_state=42)\n",
        "\n",
        "# Create an SVM model\n",
        "svm_model = SVC(kernel='linear')\n",
        "\n",
        "# Train the model\n",
        "svm_model.fit(X_train, y_train)\n",
        "\n",
        "# Make predictions on the test set\n",
        "y_pred = svm_model.predict(X_test)\n",
        "\n",
        "# Evaluate the model\n",
        "print('Accuracy:', accuracy_score(y_test, y_pred))\n",
        "print('Classification Report:\\n', classification_report(y_test, y_pred))\n"
      ]
    },
    {
      "cell_type": "markdown",
      "source": [
        "Here's a breakdown of the code:\n",
        "\n",
        "1. We import the necessary libraries:\n",
        "pandas\n",
        " for data manipulation,\n",
        "train_test_split\n",
        " from\n",
        "sklearn.model_selection\n",
        " for splitting the data,\n",
        "SVC\n",
        " from\n",
        "sklearn.svm\n",
        " for the SVM model, and\n",
        "accuracy_score\n",
        " and\n",
        "classification_report\n",
        " from\n",
        "sklearn.metrics\n",
        " for model evaluation.\n",
        "\n",
        "2. We load the diabetes dataset from a CSV file using\n",
        "pd.read_csv()\n",
        ".\n",
        "\n",
        "3. We separate the features (\n",
        "X\n",
        ") and the target variable (\n",
        "y\n",
        ", which represents whether the person has diabetes or not).\n",
        "\n",
        "4. We split the data into training and testing sets using\n",
        "train_test_split()\n",
        ".\n",
        "\n",
        "5. We create an SVM model with a linear kernel using\n",
        "SVC(kernel='linear')\n",
        ".\n",
        "\n",
        "6. We train the SVM model on the training data using\n",
        "svm_model.fit(X_train, y_train)\n",
        ".\n",
        "\n",
        "7. We make predictions on the test data using\n",
        "svm_model.predict(X_test)\n",
        ".\n",
        "\n",
        "8. We evaluate the model's performance by printing the accuracy score and classification report.\n",
        "\n",
        "Note that this is a basic example, and you may need to preprocess the data, tune the SVM model's hyperparameters for better performance.\n",
        "\n",
        "Additionally, you'll need to have the diabetes dataset in a CSV file named\n",
        "diabetes.csv\n",
        " in the same directory as your Python script. If you don't have the dataset, you can find it online or use a different dataset related to diabetes detection.\n",
        "\n",
        "\n",
        "[Let me know if you need further assistance!](https://Isiotech.com)\n"
      ],
      "metadata": {
        "id": "ZPhe9zShao_D"
      }
    }
  ]
}