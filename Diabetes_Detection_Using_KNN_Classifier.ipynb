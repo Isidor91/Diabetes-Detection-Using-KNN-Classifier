{
  "nbformat": 4,
  "nbformat_minor": 0,
  "metadata": {
    "colab": {
      "provenance": [],
      "authorship_tag": "ABX9TyOxaz7fi/iHAOgumgzRtvz2"
    },
    "kernelspec": {
      "name": "python3",
      "display_name": "Python 3"
    },
    "language_info": {
      "name": "python"
    }
  },
  "cells": [
    {
      "cell_type": "markdown",
      "source": [
        "The dataset contains various features like **Cholesterol**, **Glucose**, **BMI**, and a **Diabetes** column, which will be the target variable indicating whether the patient has diabetes or not.\n",
        "\n",
        "We can proceed to build a K-Nearest Neighbors (KNN) model to detect diabetes based on the features provided."
      ],
      "metadata": {
        "id": "x8iZ1ivvHY2s"
      }
    },
    {
      "cell_type": "code",
      "source": [
        "import numpy as np\n",
        "import pandas as pd\n",
        "from sklearn.model_selection import train_test_split\n",
        "from sklearn.preprocessing import StandardScaler, LabelEncoder\n",
        "from sklearn.neighbors import KNeighborsClassifier\n",
        "from sklearn.metrics import accuracy_score, classification_report, confusion_matrix\n",
        "\n",
        "# Load the dataset\n",
        "file_path = 'diabetes.csv'\n",
        "data = pd.read_csv(file_path)\n",
        "\n",
        "# Drop irrelevant columns\n",
        "data = data.drop(columns=['Patient number'])\n",
        "\n",
        "# Convert categorical variables to numerical (if any)\n",
        "label_encoders = {}\n",
        "categorical_columns = ['Gender', 'Diabetes']\n",
        "\n",
        "for column in categorical_columns:\n",
        "    label_encoders[column] = LabelEncoder()\n",
        "    data[column] = label_encoders[column].fit_transform(data[column])\n",
        "\n",
        "# Define the target variable and features\n",
        "X = data.drop('Diabetes', axis=1)\n",
        "y = data['Diabetes']\n",
        "\n",
        "# Split the dataset into training and testing sets\n",
        "X_train, X_test, y_train, y_test = train_test_split(X, y, test_size=0.2, random_state=42)\n",
        "\n",
        "# Standardize the features\n",
        "scaler = StandardScaler()\n",
        "X_train = scaler.fit_transform(X_train)\n",
        "X_test = scaler.transform(X_test)\n",
        "\n",
        "# Train a K-Nearest Neighbors (KNN) model\n",
        "knn = KNeighborsClassifier(n_neighbors=5)\n",
        "knn.fit(X_train, y_train)\n",
        "\n",
        "# Make predictions\n",
        "y_pred = knn.predict(X_test)\n",
        "\n",
        "# Evaluate the model\n",
        "accuracy = accuracy_score(y_test, y_pred)\n",
        "conf_matrix = confusion_matrix(y_test, y_pred)\n",
        "class_report = classification_report(y_test, y_pred)\n",
        "\n",
        "print(f'Accuracy: {accuracy * 100:.2f}%','\\n')\n",
        "print('Confusion Matrix:\\n','\\n', conf_matrix,'\\n')\n",
        "print('Classification Report:\\n','\\n', class_report)\n"
      ],
      "metadata": {
        "colab": {
          "base_uri": "https://localhost:8080/"
        },
        "id": "BzZDfPmiFRjf",
        "outputId": "6ea13fbd-baf0-456d-d9bb-29ba5b0c1110"
      },
      "execution_count": 27,
      "outputs": [
        {
          "output_type": "stream",
          "name": "stdout",
          "text": [
            "Accuracy: 83.33% \n",
            "\n",
            "Confusion Matrix:\n",
            " \n",
            " [[ 5 11]\n",
            " [ 2 60]] \n",
            "\n",
            "Classification Report:\n",
            " \n",
            "               precision    recall  f1-score   support\n",
            "\n",
            "           0       0.71      0.31      0.43        16\n",
            "           1       0.85      0.97      0.90        62\n",
            "\n",
            "    accuracy                           0.83        78\n",
            "   macro avg       0.78      0.64      0.67        78\n",
            "weighted avg       0.82      0.83      0.81        78\n",
            "\n"
          ]
        }
      ]
    },
    {
      "cell_type": "markdown",
      "source": [
        "**Explanation:**\n",
        "\n",
        "**Preprocessing:**\n",
        "\n",
        "*We drop the 'Patient number' column, as it's not useful for prediction.\n",
        "\n",
        "*Categorical variables like 'Gender' and 'Diabetes' are converted to numerical values using 'LabelEncoder'.\n",
        "\n",
        "**Model Training:**\n",
        "\n",
        "*The dataset is split into training and testing sets.\n",
        "\n",
        "*Features are standardized to improve the performance of the KNN model.\n",
        "\n",
        "A* KNN model is trained with the training data.\n",
        "\n",
        "**Evaluation:**\n",
        "\n",
        "The model's accuracy, confusion matrix, and classification report are printed to assess its performance.\n",
        "\n",
        "**[Let me know if you need further assistance!](https://isiotech.com)**"
      ],
      "metadata": {
        "id": "7kttlvb0Htpd"
      }
    }
  ]
}